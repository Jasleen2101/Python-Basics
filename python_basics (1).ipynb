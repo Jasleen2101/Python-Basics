{
  "cells": [
    {
      "cell_type": "markdown",
      "id": "e48f0745",
      "metadata": {
        "id": "e48f0745"
      },
      "source": [
        "# Python Assignment\n",
        "\n",
        "# Theory Questions\n",
        "\n",
        "1. What is Python, and why is it popular?  \n",
        "  - Python is a high-level, interpreted programming language known for its readability and ease of use. It is popular due to its simple syntax, large community, and extensive libraries.\n",
        "\n",
        "2. What is an interpreter in Python?\n",
        "  - An interpreter is a program that executes Python code line by line, converting it into machine code.\n",
        "\n",
        "3. What are pre-defined keywords in Python?\n",
        "  - Pre-defined keywords are reserved words in Python that have special meaning, such as \"if\", \"for\", \"return\", etc.\n",
        "\n",
        "4. Can keywords be used as variable names?\n",
        "  - No, keywords cannot be used as variable names.\n",
        "\n",
        "5. What is mutability in Python?\n",
        "  - Mutability refers to the ability of an object to be changed after it is created.\n",
        "\n",
        "6. Why are lists mutable, but tuples are immutable?  \n",
        "  - Lists are designed to allow changes to their contents, while tuples are designed for fixed data and don't support item assignment.\n",
        "\n",
        "7. What is the difference between \"==\" and \"is\" operators in Python?  \n",
        "  - \"==\" checks for value equality, \"is\" checks for object identity.\n",
        "\n",
        "8. What are logical operators in Python?  \n",
        "  - Logical operators include \"and\", \"or\", and \"not\".\n",
        "\n",
        "9. What is type casting in Python?  \n",
        "  - Type casting is converting a variable from one data type to another.\n",
        "\n",
        "10. What is the difference between implicit and explicit type casting?\n",
        "  - Implicit casting is done by Python automatically, explicit requires the use of functions like int(), float() etc.\n",
        "\n",
        "11. What is the purpose of conditional statements in Python?\n",
        "  - They allow decision-making based on conditions.\n",
        "\n",
        "12. How does the elif statement work?\n",
        "  - It allows checking multiple expressions for True after an initial if.\n",
        "\n",
        "13. What is the difference between for and while loops?\n",
        "  - \"for\" loops iterate over sequences, \"while\" loops run as long as a condition is True.\n",
        "\n",
        "14. Scenario for while loop:\n",
        "  - Use a while loop to keep asking for user input until they enter a valid password.\n"
      ]
    },
    {
      "cell_type": "code",
      "execution_count": null,
      "id": "092f8914",
      "metadata": {
        "id": "092f8914"
      },
      "outputs": [],
      "source": [
        "print(\"Hello, World!\")"
      ]
    },
    {
      "cell_type": "code",
      "execution_count": 1,
      "id": "4fedc426",
      "metadata": {
        "colab": {
          "base_uri": "https://localhost:8080/"
        },
        "id": "4fedc426",
        "outputId": "dd62fe55-6d61-4f64-8d40-ffbefbb97dd7"
      },
      "outputs": [
        {
          "output_type": "stream",
          "name": "stdout",
          "text": [
            "Name: Jasleen\n",
            "Age: 23\n"
          ]
        }
      ],
      "source": [
        "name = \"Jasleen\"\n",
        "age = 23\n",
        "print(\"Name:\", name)\n",
        "print(\"Age:\", age)"
      ]
    },
    {
      "cell_type": "code",
      "execution_count": null,
      "id": "d0e95374",
      "metadata": {
        "id": "d0e95374"
      },
      "outputs": [],
      "source": [
        "import keyword\n",
        "print(\"Python keywords:\", keyword.kwlist)"
      ]
    },
    {
      "cell_type": "code",
      "execution_count": null,
      "id": "ed1603b6",
      "metadata": {
        "id": "ed1603b6"
      },
      "outputs": [],
      "source": [
        "word = \"for\"\n",
        "print(f\"Is '{word}' a keyword? ->\", keyword.iskeyword(word))"
      ]
    },
    {
      "cell_type": "code",
      "execution_count": null,
      "id": "b8e48e79",
      "metadata": {
        "id": "b8e48e79"
      },
      "outputs": [],
      "source": [
        "def test_mutable_immutable(mutable_list, immutable_int):\n",
        "    mutable_list.append(100)\n",
        "    immutable_int += 1\n",
        "    print(\"Inside function:\", mutable_list, immutable_int)\n",
        "\n",
        "my_list = [1, 2, 3]\n",
        "my_int = 10\n",
        "test_mutable_immutable(my_list, my_int)\n",
        "print(\"Outside function:\", my_list, my_int)"
      ]
    },
    {
      "cell_type": "code",
      "execution_count": null,
      "id": "7585e940",
      "metadata": {
        "id": "7585e940"
      },
      "outputs": [],
      "source": [
        "a = int(input(\"Enter first number: \"))\n",
        "b = int(input(\"Enter second number: \"))\n",
        "print(\"Addition:\", a + b)\n",
        "print(\"Subtraction:\", a - b)\n",
        "print(\"Multiplication:\", a * b)\n",
        "print(\"Division:\", a / b)"
      ]
    },
    {
      "cell_type": "code",
      "execution_count": null,
      "id": "0c3191f7",
      "metadata": {
        "id": "0c3191f7"
      },
      "outputs": [],
      "source": [
        "x = 5\n",
        "y = 10\n",
        "print(x > 2 and y > 5)\n",
        "print(x < 2 or y > 5)\n",
        "print(not(x == 5))"
      ]
    },
    {
      "cell_type": "code",
      "execution_count": null,
      "id": "08d16185",
      "metadata": {
        "id": "08d16185"
      },
      "outputs": [],
      "source": [
        "my_list = [1, 2, 3]\n",
        "my_tuple = (1, 2, 3)\n",
        "my_list[0] = 100\n",
        "print(\"Modified list:\", my_list)\n",
        "try:\n",
        "    my_tuple[0] = 100\n",
        "except TypeError:\n",
        "    print(\"Cannot modify tuple\")"
      ]
    },
    {
      "cell_type": "code",
      "execution_count": null,
      "id": "9aa830e9",
      "metadata": {
        "id": "9aa830e9"
      },
      "outputs": [],
      "source": [
        "s = input(\"Enter a value: \")\n",
        "print(\"As int:\", int(s))\n",
        "print(\"As float:\", float(s))\n",
        "print(\"As bool:\", bool(s))"
      ]
    },
    {
      "cell_type": "code",
      "execution_count": null,
      "id": "f06fb29a",
      "metadata": {
        "id": "f06fb29a"
      },
      "outputs": [],
      "source": [
        "str_list = [\"1\", \"2\", \"3\"]\n",
        "int_list = list(map(int, str_list))\n",
        "print(\"Converted list:\", int_list)"
      ]
    },
    {
      "cell_type": "code",
      "execution_count": null,
      "id": "46306cb6",
      "metadata": {
        "id": "46306cb6"
      },
      "outputs": [],
      "source": [
        "num = int(input(\"Enter a number: \"))\n",
        "if num > 0:\n",
        "    print(\"Positive\")\n",
        "elif num < 0:\n",
        "    print(\"Negative\")\n",
        "else:\n",
        "    print(\"Zero\")"
      ]
    },
    {
      "cell_type": "code",
      "execution_count": null,
      "id": "29e70288",
      "metadata": {
        "id": "29e70288"
      },
      "outputs": [],
      "source": [
        "for i in range(1, 11):\n",
        "    print(i)"
      ]
    },
    {
      "cell_type": "code",
      "execution_count": null,
      "id": "bf64bb9e",
      "metadata": {
        "id": "bf64bb9e"
      },
      "outputs": [],
      "source": [
        "even_sum = sum(i for i in range(1, 51) if i % 2 == 0)\n",
        "print(\"Sum of even numbers 1-50:\", even_sum)"
      ]
    },
    {
      "cell_type": "code",
      "execution_count": null,
      "id": "35774f74",
      "metadata": {
        "id": "35774f74"
      },
      "outputs": [],
      "source": [
        "s = input(\"Enter a string: \")\n",
        "rev = \"\"\n",
        "i = len(s) - 1\n",
        "while i >= 0:\n",
        "    rev += s[i]\n",
        "    i -= 1\n",
        "print(\"Reversed string:\", rev)"
      ]
    },
    {
      "cell_type": "code",
      "execution_count": null,
      "id": "9492288d",
      "metadata": {
        "id": "9492288d"
      },
      "outputs": [],
      "source": [
        "n = int(input(\"Enter a number: \"))\n",
        "fact = 1\n",
        "while n > 1:\n",
        "    fact *= n\n",
        "    n -= 1\n",
        "print(\"Factorial:\", fact)"
      ]
    }
  ],
  "metadata": {
    "colab": {
      "provenance": []
    },
    "language_info": {
      "name": "python"
    },
    "kernelspec": {
      "name": "python3",
      "display_name": "Python 3"
    }
  },
  "nbformat": 4,
  "nbformat_minor": 5
}